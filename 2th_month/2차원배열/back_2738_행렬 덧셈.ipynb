{
 "cells": [
  {
   "cell_type": "markdown",
   "source": [
    "문제\n",
    "N*M크기의 두 행렬 A와 B가 주어졌을 때, 두 행렬을 더하는 프로그램을 작성하시오.\n",
    "\n",
    "입력\n",
    "첫째 줄에 행렬의 크기 N 과 M이 주어진다. 둘째 줄부터 N개의 줄에 행렬 A의 원소 M개가 차례대로 주어진다. 이어서 N개의 줄에 행렬 B의 원소 M개가 차례대로 주어진다. N과 M은 100보다 작거나 같고, 행렬의 원소는 절댓값이 100보다 작거나 같은 정수이다.\n",
    "\n",
    "출력\n",
    "첫째 줄부터 N개의 줄에 행렬 A와 B를 더한 행렬을 출력한다. 행렬의 각 원소는 공백으로 구분한다.\n",
    "\n",
    "예제 입력 1\n",
    "3 3\n",
    "1 1 1\n",
    "2 2 2\n",
    "0 1 0\n",
    "3 3 3\n",
    "4 4 4\n",
    "5 5 100\n",
    "예제 출력 1\n",
    "4 4 4\n",
    "6 6 6\n",
    "5 6 100"
   ],
   "metadata": {
    "collapsed": false
   }
  },
  {
   "cell_type": "code",
   "execution_count": null,
   "outputs": [],
   "source": [
    "a, b = map(int,input().split())\n",
    "res1 = []\n",
    "res2 = []\n",
    "for i in range(a):\n",
    "    res1.append(list(map(int, input().split())))\n",
    "for i in range(a):\n",
    "    res2.append(list(map(int, input().split())))\n",
    "tmp = []\n",
    "for i in range(a):\n",
    "    test = []\n",
    "    for k in range(b):\n",
    "        test.append(res1[i][k]+res2[i][k])\n",
    "    tmp.append(test)\n",
    "for i in tmp:\n",
    "    i = list(map(str, i))\n",
    "    print(' '.join(i))"
   ],
   "metadata": {
    "collapsed": false
   }
  },
  {
   "cell_type": "code",
   "execution_count": null,
   "outputs": [],
   "source": [],
   "metadata": {
    "collapsed": false
   }
  }
 ],
 "metadata": {
  "kernelspec": {
   "display_name": "Python 3",
   "language": "python",
   "name": "python3"
  },
  "language_info": {
   "codemirror_mode": {
    "name": "ipython",
    "version": 2
   },
   "file_extension": ".py",
   "mimetype": "text/x-python",
   "name": "python",
   "nbconvert_exporter": "python",
   "pygments_lexer": "ipython2",
   "version": "2.7.6"
  }
 },
 "nbformat": 4,
 "nbformat_minor": 0
}
