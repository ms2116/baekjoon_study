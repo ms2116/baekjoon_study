{
 "cells": [
  {
   "cell_type": "markdown",
   "source": [
    "<그림 1>과 같이 9×9 격자판에 쓰여진 81개의 자연수 또는 0이 주어질 때, 이들 중 최댓값을 찾고 그 최댓값이 몇 행 몇 열에 위치한 수인지 구하는 프로그램을 작성하시오.\n",
    "\n",
    "예를 들어, 다음과 같이 81개의 수가 주어지면\n",
    "\n",
    " \t1열\t2열\t3열\t4열\t5열\t6열\t7열\t8열\t9열\n",
    "1행\t3\t23\t85\t34\t17\t74\t25\t52\t65\n",
    "2행\t10\t7\t39\t42\t88\t52\t14\t72\t63\n",
    "3행\t87\t42\t18\t78\t53\t45\t18\t84\t53\n",
    "4행\t34\t28\t64\t85\t12\t16\t75\t36\t55\n",
    "5행\t21\t77\t45\t35\t28\t75\t90\t76\t1\n",
    "6행\t25\t87\t65\t15\t28\t11\t37\t28\t74\n",
    "7행\t65\t27\t75\t41\t7\t89\t78\t64\t39\n",
    "8행\t47\t47\t70\t45\t23\t65\t3\t41\t44\n",
    "9행\t87\t13\t82\t38\t31\t12\t29\t29\t80\n",
    "이들 중 최댓값은 90이고, 이 값은 5행 7열에 위치한다.\n",
    "\n",
    "입력\n",
    "첫째 줄부터 아홉 번째 줄까지 한 줄에 아홉 개씩 수가 주어진다. 주어지는 수는 100보다 작은 자연수 또는 0이다.\n",
    "\n",
    "출력\n",
    "첫째 줄에 최댓값을 출력하고, 둘째 줄에 최댓값이 위치한 행 번호와 열 번호를 빈칸을 사이에 두고 차례로 출력한다. 최댓값이 두 개 이상인 경우 그 중 한 곳의 위치를 출력한다.\n",
    "\n",
    "예제 입력 1\n",
    "3 23 85 34 17 74 25 52 65\n",
    "10 7 39 42 88 52 14 72 63\n",
    "87 42 18 78 53 45 18 84 53\n",
    "34 28 64 85 12 16 75 36 55\n",
    "21 77 45 35 28 75 90 76 1\n",
    "25 87 65 15 28 11 37 28 74\n",
    "65 27 75 41 7 89 78 64 39\n",
    "47 47 70 45 23 65 3 41 44\n",
    "87 13 82 38 31 12 29 29 80\n",
    "예제 출력 1\n",
    "90\n",
    "5 7"
   ],
   "metadata": {
    "collapsed": false
   }
  },
  {
   "cell_type": "code",
   "execution_count": 2,
   "outputs": [],
   "source": [
    "a, b = 1,1\n",
    "maxTmp = 0\n",
    "for i in range(1,10):\n",
    "    tmp = list(map(int, input().split()))\n",
    "    if max(tmp) > maxTmp:\n",
    "        maxTmp = max(tmp)\n",
    "        a, b = i, tmp.index(maxTmp)+1\n",
    "print(maxTmp)\n",
    "print(a,b)"
   ],
   "metadata": {
    "collapsed": false
   }
  }
 ],
 "metadata": {
  "kernelspec": {
   "display_name": "Python 3",
   "language": "python",
   "name": "python3"
  },
  "language_info": {
   "codemirror_mode": {
    "name": "ipython",
    "version": 2
   },
   "file_extension": ".py",
   "mimetype": "text/x-python",
   "name": "python",
   "nbconvert_exporter": "python",
   "pygments_lexer": "ipython2",
   "version": "2.7.6"
  }
 },
 "nbformat": 4,
 "nbformat_minor": 0
}
